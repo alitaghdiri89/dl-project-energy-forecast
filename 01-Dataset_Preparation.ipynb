{
 "cells": [
  {
   "cell_type": "code",
   "execution_count": 1,
   "id": "a3556e3e",
   "metadata": {},
   "outputs": [],
   "source": [
    "import pandas as pd\n",
    "import numpy as np\n",
    "import holidays\n",
    "import config as cfg"
   ]
  },
  {
   "cell_type": "code",
   "execution_count": 2,
   "id": "05f416aa",
   "metadata": {},
   "outputs": [
    {
     "name": "stdout",
     "output_type": "stream",
     "text": [
      "   block_number        day  energy_mean  DOY  day_of_week  is_holiday\n",
      "0             0 2011-12-03     0.300233  337            5       False\n",
      "1             0 2011-12-04     0.432563  338            6        True\n",
      "2             0 2011-12-05     0.125417  339            0       False\n",
      "3             0 2011-12-06     0.277542  340            1       False\n",
      "4             0 2011-12-07     0.188792  341            2       False\n",
      "       LCLid        day  energy_mean  block_number  DOY  day_of_week  \\\n",
      "0  MAC000246 2011-12-03     0.300233             0  337            5   \n",
      "1  MAC000246 2011-12-04     0.432563             0  338            6   \n",
      "2  MAC000246 2011-12-05     0.125417             0  339            0   \n",
      "3  MAC000246 2011-12-06     0.277542             0  340            1   \n",
      "4  MAC000246 2011-12-07     0.188792             0  341            2   \n",
      "\n",
      "   is_holiday  \n",
      "0       False  \n",
      "1        True  \n",
      "2       False  \n",
      "3       False  \n",
      "4       False  \n"
     ]
    }
   ],
   "source": [
    "# Initialize list to collect results\n",
    "house = []\n",
    "\n",
    "# Loop through all CSV files in the directory\n",
    "for file_path in cfg.RAW_DIR.glob('block_*.csv'):\n",
    "    # Extract block number from filename\n",
    "    block_number = int(file_path.stem.split('_')[1])\n",
    "    \n",
    "    # Read CSV and parse 'day' column\n",
    "    df = pd.read_csv(file_path, parse_dates=['day'])\n",
    "    \n",
    "    # Add block number column\n",
    "    df['block_number'] = block_number\n",
    "    \n",
    "    # Append to list\n",
    "    house.append(df)\n",
    "\n",
    "# Concatenate all results\n",
    "house_df = pd.concat(house, ignore_index=True)\n",
    "\n",
    "# Group by day and calculate mean of energy_mean\n",
    "block_df = house_df.groupby(['block_number', 'day'])['energy_mean'].mean().reset_index()\n",
    "\n",
    "# Convert 'day' column to datetime if it's not already\n",
    "block_df['day'] = pd.to_datetime(block_df['day'])\n",
    "\n",
    "# Sort by day and block number\n",
    "block_df.sort_values(['block_number', 'day'], inplace=True)\n",
    "house_df.sort_values(['block_number', 'day'], inplace=True)\n",
    "\n",
    "# Create UK holiday calendar (England)\n",
    "uk_holidays = holidays.country_holidays('GB', subdiv='England')\n",
    "\n",
    "# Define a function to check holiday or Sunday\n",
    "def is_holiday_or_sunday(date):\n",
    "    return date in uk_holidays or date.weekday() == 6  # Sunday is weekday 6\n",
    "\n",
    "# Add DOY, Day of Week and is_holiday to block_df\n",
    "block_df['DOY'] = block_df['day'].dt.dayofyear\n",
    "block_df['day_of_week'] = block_df['day'].dt.weekday\n",
    "block_df['is_holiday'] = block_df['day'].apply(is_holiday_or_sunday)\n",
    "\n",
    "# Add DOY, Day of Week and is_holiday to house_df\n",
    "house_df['DOY'] = house_df['day'].dt.dayofyear\n",
    "house_df['day_of_week'] = house_df['day'].dt.weekday\n",
    "house_df['is_holiday'] = house_df['day'].apply(is_holiday_or_sunday)\n",
    "\n",
    "# drop unnecessary columns from house_df\n",
    "house_df.drop(columns=['energy_median', 'energy_max', 'energy_count', 'energy_std', 'energy_sum', 'energy_min'], inplace=True)\n",
    "\n",
    "# convert day to datetime64\n",
    "if not np.issubdtype(house_df['day'].dtype, np.datetime64):\n",
    "    house_df['day'] = pd.to_datetime(house_df['day'])\n",
    "\n",
    "if not np.issubdtype(block_df['day'].dtype, np.datetime64):\n",
    "    block_df['day'] = pd.to_datetime(block_df['day'])\n",
    "\n",
    "# Define your date range\n",
    "start_date = block_df['day'].min()  #'2012-06-30'\n",
    "end_date = block_df['day'].max()    #'2014-02-20'\n",
    "\n",
    "# Filter the DataFrame\n",
    "block_filtered = block_df[(block_df['day'] >= start_date) & (block_df['day'] <= end_date)].copy()\n",
    "house_filtered = house_df[(house_df['day'] >= start_date) & (house_df['day'] <= end_date)].copy()\n",
    "\n",
    "# Reset index for both filtered DataFrames\n",
    "block_filtered.reset_index(drop=True, inplace=True)\n",
    "house_filtered.reset_index(drop=True, inplace=True)\n",
    "\n",
    "# Display or use block_filtered\n",
    "print(block_filtered.head())\n",
    "print(house_filtered.head())\n"
   ]
  },
  {
   "cell_type": "code",
   "execution_count": 3,
   "id": "91416235",
   "metadata": {},
   "outputs": [
    {
     "name": "stdout",
     "output_type": "stream",
     "text": [
      "Block DataFrame Description:\n",
      "       block_number                            day   energy_mean  \\\n",
      "count  90015.000000                          90015  90015.000000   \n",
      "mean      55.626429  2013-01-22 00:36:18.836860672      0.217181   \n",
      "min        0.000000            2011-11-23 00:00:00      0.006708   \n",
      "25%       28.000000            2012-07-06 00:00:00      0.166784   \n",
      "50%       56.000000            2013-01-23 00:00:00      0.200512   \n",
      "75%       84.000000            2013-08-12 00:00:00      0.249699   \n",
      "max      111.000000            2014-02-28 00:00:00      1.065250   \n",
      "std       32.345699                            NaN      0.076001   \n",
      "\n",
      "                DOY   day_of_week  \n",
      "count  90015.000000  90015.000000  \n",
      "mean     178.419952      2.999278  \n",
      "min        1.000000      0.000000  \n",
      "25%       76.000000      1.000000  \n",
      "50%      176.000000      3.000000  \n",
      "75%      277.000000      5.000000  \n",
      "max      366.000000      6.000000  \n",
      "std      111.220761      1.997974  \n",
      "Household DataFrame Description:\n",
      "                                 day   energy_mean  block_number  \\\n",
      "count                        3510433  3.510403e+06  3.510433e+06   \n",
      "mean   2013-03-27 21:09:43.463408384  2.117305e-01  5.481214e+01   \n",
      "min              2011-11-23 00:00:00  0.000000e+00  0.000000e+00   \n",
      "25%              2012-10-21 00:00:00  9.808333e-02  2.700000e+01   \n",
      "50%              2013-03-30 00:00:00  1.632917e-01  5.400000e+01   \n",
      "75%              2013-09-10 00:00:00  2.624583e-01  8.300000e+01   \n",
      "max              2014-02-28 00:00:00  6.928250e+00  1.110000e+02   \n",
      "std                              NaN  1.908460e-01  3.211375e+01   \n",
      "\n",
      "                DOY   day_of_week  \n",
      "count  3.510433e+06  3.510433e+06  \n",
      "mean   1.894031e+02  2.998373e+00  \n",
      "min    1.000000e+00  0.000000e+00  \n",
      "25%    9.400000e+01  1.000000e+00  \n",
      "50%    1.970000e+02  3.000000e+00  \n",
      "75%    2.840000e+02  5.000000e+00  \n",
      "max    3.660000e+02  6.000000e+00  \n",
      "std    1.087166e+02  1.997777e+00  \n"
     ]
    }
   ],
   "source": [
    "print(\"Block DataFrame Description:\")\n",
    "# Display the description of the block_filtered DataFrame\n",
    "print(block_filtered.describe())\n",
    "\n",
    "print(\"Household DataFrame Description:\")\n",
    "# Display the description of the house_filtered_combined DataFrame\n",
    "print(house_filtered.describe())"
   ]
  },
  {
   "cell_type": "code",
   "execution_count": 4,
   "id": "750ecc07",
   "metadata": {},
   "outputs": [
    {
     "name": "stdout",
     "output_type": "stream",
     "text": [
      "Data saved as Pickle to: z:\\University Folders\\Deep Learning\\Project\\archive\\Project-v1\\data\\processed\\block_daily_means.pkl\n",
      "Data saved as Pickle to: z:\\University Folders\\Deep Learning\\Project\\archive\\Project-v1\\data\\processed\\house_daily_means.pkl\n"
     ]
    }
   ],
   "source": [
    "# Create the directory if it doesn't exist\n",
    "cfg.DATASET_DIR.mkdir(parents=True, exist_ok=True)\n",
    "\n",
    "# Save block_filtered as Pickle\n",
    "block_filtered.to_pickle(cfg.PICKLE_BLOCK)\n",
    "print(f\"Data saved as Pickle to: {cfg.PICKLE_BLOCK}\")\n",
    "\n",
    "# Save house_filtered as Pickle\n",
    "house_filtered.to_pickle(cfg.PICKLE_HOUSE)\n",
    "print(f\"Data saved as Pickle to: {cfg.PICKLE_HOUSE}\")"
   ]
  }
 ],
 "metadata": {
  "kernelspec": {
   "display_name": "morteza",
   "language": "python",
   "name": "python3"
  },
  "language_info": {
   "codemirror_mode": {
    "name": "ipython",
    "version": 3
   },
   "file_extension": ".py",
   "mimetype": "text/x-python",
   "name": "python",
   "nbconvert_exporter": "python",
   "pygments_lexer": "ipython3",
   "version": "3.13.5"
  }
 },
 "nbformat": 4,
 "nbformat_minor": 5
}
